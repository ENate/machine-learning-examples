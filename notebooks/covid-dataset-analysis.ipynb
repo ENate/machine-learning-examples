{
 "metadata": {
  "language_info": {
   "codemirror_mode": {
    "name": "ipython",
    "version": 3
   },
   "file_extension": ".py",
   "mimetype": "text/x-python",
   "name": "python",
   "nbconvert_exporter": "python",
   "pygments_lexer": "ipython3",
   "version": 3
  },
  "orig_nbformat": 2
 },
 "nbformat": 4,
 "nbformat_minor": 2,
 "cells": [
  {
   "cell_type": "code",
   "execution_count": null,
   "metadata": {},
   "outputs": [
    {
     "output_type": "error",
     "ename": "Error",
     "evalue": "IPyKernel not installed into interpreter Python 3.8.8 64-bit ('website': conda):/home/nath/miniconda3/envs/website/bin/python",
     "traceback": [
      "Error: IPyKernel not installed into interpreter Python 3.8.8 64-bit ('website': conda):/home/nath/miniconda3/envs/website/bin/python",
      "at v.installMissingDependencies (/home/nath/.vscode/extensions/ms-toolsai.jupyter-2021.5.745244803/out/client/extension.js:49:561242)",
      "at runMicrotasks (<anonymous>)",
      "at processTicksAndRejections (internal/process/task_queues.js:97:5)"
     ]
    }
   ],
   "source": [
    "import numpy as np\n",
    "import tensorflow as tf\n"
   ]
  }
 ]
}